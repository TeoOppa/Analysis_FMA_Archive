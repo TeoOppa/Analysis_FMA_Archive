{
 "metadata": {
  "language_info": {
   "codemirror_mode": {
    "name": "ipython",
    "version": 3
   },
   "file_extension": ".py",
   "mimetype": "text/x-python",
   "name": "python",
   "nbconvert_exporter": "python",
   "pygments_lexer": "ipython3",
   "version": "3.8.3"
  },
  "orig_nbformat": 2,
  "kernelspec": {
   "name": "python383jvsc74a57bd0dca0ade3e726a953b501b15e8e990130d2b7799f14cfd9f4271676035ebe5511",
   "display_name": "Python 3.8.3 64-bit ('base': conda)"
  }
 },
 "nbformat": 4,
 "nbformat_minor": 2,
 "cells": [
  {
   "cell_type": "code",
   "execution_count": 2,
   "metadata": {},
   "outputs": [],
   "source": [
    "%matplotlib inline\n",
    "\n",
    "import numpy as np\n",
    "import pandas as pd\n",
    "import matplotlib.pyplot as plt\n",
    "\n",
    "from collections import defaultdict\n"
   ]
  },
  {
   "cell_type": "code",
   "execution_count": 4,
   "metadata": {},
   "outputs": [],
   "source": [
    "df = pd.read_csv(\"/Users/matteoppa/Desktop/ts_raw_dataset.csv\")"
   ]
  },
  {
   "cell_type": "code",
   "execution_count": 5,
   "metadata": {},
   "outputs": [
    {
     "output_type": "execute_result",
     "data": {
      "text/plain": [
       "            track_id            0            1            2            3  \\\n",
       "count    7997.000000  7997.000000  7997.000000  7997.000000  7997.000000   \n",
       "mean    84115.643991     0.000460     0.001208     0.001121     0.000507   \n",
       "std     43300.841935     0.034449     0.065787     0.061671     0.067003   \n",
       "min         2.000000    -0.394057    -0.762178    -0.785068    -0.725972   \n",
       "25%     49062.000000     0.000000     0.000000     0.000000     0.000000   \n",
       "50%     89196.000000     0.000000     0.000000     0.000000     0.000000   \n",
       "75%    122534.000000     0.000000     0.000000     0.000000     0.000000   \n",
       "max    155066.000000     0.453124     0.883043     0.830750     0.945976   \n",
       "\n",
       "                 4            5            6            7            8  ...  \\\n",
       "count  7997.000000  7997.000000  7997.000000  7997.000000  7997.000000  ...   \n",
       "mean      0.001096     0.000923     0.001083     0.001761     0.001824  ...   \n",
       "std       0.068335     0.073567     0.073552     0.073436     0.071781  ...   \n",
       "min      -0.901318    -1.028608    -0.982890    -1.028068    -0.853553  ...   \n",
       "25%       0.000000     0.000000     0.000000     0.000000     0.000000  ...   \n",
       "50%       0.000000     0.000000     0.000000     0.000000     0.000000  ...   \n",
       "75%       0.000000     0.000000     0.000000     0.000000     0.000000  ...   \n",
       "max       0.880416     0.921974     0.878083     0.816491     0.867787  ...   \n",
       "\n",
       "              4170         4171         4172         4173         4174  \\\n",
       "count  7997.000000  7997.000000  7997.000000  7997.000000  7997.000000   \n",
       "mean      0.004343     0.002023     0.002111     0.002343     0.003421   \n",
       "std       0.213864     0.215472     0.214423     0.215401     0.218136   \n",
       "min      -1.006682    -1.019950    -1.029107    -0.996257    -1.007865   \n",
       "25%      -0.089078    -0.090171    -0.089971    -0.089745    -0.090858   \n",
       "50%       0.001147     0.001166     0.001901     0.001641     0.000873   \n",
       "75%       0.096695     0.093550     0.096132     0.096602     0.097394   \n",
       "max       1.116171     1.168718     1.176391     1.193110     1.170971   \n",
       "\n",
       "              4175         4176         4177         4178         4179  \n",
       "count  7997.000000  7997.000000  7997.000000  7997.000000  7997.000000  \n",
       "mean      0.001186    -0.000650     0.000028    -0.000350    -0.000014  \n",
       "std       0.215162     0.213348     0.211654     0.211055     0.212230  \n",
       "min      -1.006915    -1.007008    -1.227490    -1.027760    -1.001620  \n",
       "25%      -0.088991    -0.090858    -0.092829    -0.092778    -0.094192  \n",
       "50%       0.000375    -0.000017     0.000780     0.001326     0.000181  \n",
       "75%       0.091030     0.093196     0.096032     0.093344     0.092641  \n",
       "max       1.043377     1.207359     1.065200     1.131374     1.003713  \n",
       "\n",
       "[8 rows x 4181 columns]"
      ],
      "text/html": "<div>\n<style scoped>\n    .dataframe tbody tr th:only-of-type {\n        vertical-align: middle;\n    }\n\n    .dataframe tbody tr th {\n        vertical-align: top;\n    }\n\n    .dataframe thead th {\n        text-align: right;\n    }\n</style>\n<table border=\"1\" class=\"dataframe\">\n  <thead>\n    <tr style=\"text-align: right;\">\n      <th></th>\n      <th>track_id</th>\n      <th>0</th>\n      <th>1</th>\n      <th>2</th>\n      <th>3</th>\n      <th>4</th>\n      <th>5</th>\n      <th>6</th>\n      <th>7</th>\n      <th>8</th>\n      <th>...</th>\n      <th>4170</th>\n      <th>4171</th>\n      <th>4172</th>\n      <th>4173</th>\n      <th>4174</th>\n      <th>4175</th>\n      <th>4176</th>\n      <th>4177</th>\n      <th>4178</th>\n      <th>4179</th>\n    </tr>\n  </thead>\n  <tbody>\n    <tr>\n      <th>count</th>\n      <td>7997.000000</td>\n      <td>7997.000000</td>\n      <td>7997.000000</td>\n      <td>7997.000000</td>\n      <td>7997.000000</td>\n      <td>7997.000000</td>\n      <td>7997.000000</td>\n      <td>7997.000000</td>\n      <td>7997.000000</td>\n      <td>7997.000000</td>\n      <td>...</td>\n      <td>7997.000000</td>\n      <td>7997.000000</td>\n      <td>7997.000000</td>\n      <td>7997.000000</td>\n      <td>7997.000000</td>\n      <td>7997.000000</td>\n      <td>7997.000000</td>\n      <td>7997.000000</td>\n      <td>7997.000000</td>\n      <td>7997.000000</td>\n    </tr>\n    <tr>\n      <th>mean</th>\n      <td>84115.643991</td>\n      <td>0.000460</td>\n      <td>0.001208</td>\n      <td>0.001121</td>\n      <td>0.000507</td>\n      <td>0.001096</td>\n      <td>0.000923</td>\n      <td>0.001083</td>\n      <td>0.001761</td>\n      <td>0.001824</td>\n      <td>...</td>\n      <td>0.004343</td>\n      <td>0.002023</td>\n      <td>0.002111</td>\n      <td>0.002343</td>\n      <td>0.003421</td>\n      <td>0.001186</td>\n      <td>-0.000650</td>\n      <td>0.000028</td>\n      <td>-0.000350</td>\n      <td>-0.000014</td>\n    </tr>\n    <tr>\n      <th>std</th>\n      <td>43300.841935</td>\n      <td>0.034449</td>\n      <td>0.065787</td>\n      <td>0.061671</td>\n      <td>0.067003</td>\n      <td>0.068335</td>\n      <td>0.073567</td>\n      <td>0.073552</td>\n      <td>0.073436</td>\n      <td>0.071781</td>\n      <td>...</td>\n      <td>0.213864</td>\n      <td>0.215472</td>\n      <td>0.214423</td>\n      <td>0.215401</td>\n      <td>0.218136</td>\n      <td>0.215162</td>\n      <td>0.213348</td>\n      <td>0.211654</td>\n      <td>0.211055</td>\n      <td>0.212230</td>\n    </tr>\n    <tr>\n      <th>min</th>\n      <td>2.000000</td>\n      <td>-0.394057</td>\n      <td>-0.762178</td>\n      <td>-0.785068</td>\n      <td>-0.725972</td>\n      <td>-0.901318</td>\n      <td>-1.028608</td>\n      <td>-0.982890</td>\n      <td>-1.028068</td>\n      <td>-0.853553</td>\n      <td>...</td>\n      <td>-1.006682</td>\n      <td>-1.019950</td>\n      <td>-1.029107</td>\n      <td>-0.996257</td>\n      <td>-1.007865</td>\n      <td>-1.006915</td>\n      <td>-1.007008</td>\n      <td>-1.227490</td>\n      <td>-1.027760</td>\n      <td>-1.001620</td>\n    </tr>\n    <tr>\n      <th>25%</th>\n      <td>49062.000000</td>\n      <td>0.000000</td>\n      <td>0.000000</td>\n      <td>0.000000</td>\n      <td>0.000000</td>\n      <td>0.000000</td>\n      <td>0.000000</td>\n      <td>0.000000</td>\n      <td>0.000000</td>\n      <td>0.000000</td>\n      <td>...</td>\n      <td>-0.089078</td>\n      <td>-0.090171</td>\n      <td>-0.089971</td>\n      <td>-0.089745</td>\n      <td>-0.090858</td>\n      <td>-0.088991</td>\n      <td>-0.090858</td>\n      <td>-0.092829</td>\n      <td>-0.092778</td>\n      <td>-0.094192</td>\n    </tr>\n    <tr>\n      <th>50%</th>\n      <td>89196.000000</td>\n      <td>0.000000</td>\n      <td>0.000000</td>\n      <td>0.000000</td>\n      <td>0.000000</td>\n      <td>0.000000</td>\n      <td>0.000000</td>\n      <td>0.000000</td>\n      <td>0.000000</td>\n      <td>0.000000</td>\n      <td>...</td>\n      <td>0.001147</td>\n      <td>0.001166</td>\n      <td>0.001901</td>\n      <td>0.001641</td>\n      <td>0.000873</td>\n      <td>0.000375</td>\n      <td>-0.000017</td>\n      <td>0.000780</td>\n      <td>0.001326</td>\n      <td>0.000181</td>\n    </tr>\n    <tr>\n      <th>75%</th>\n      <td>122534.000000</td>\n      <td>0.000000</td>\n      <td>0.000000</td>\n      <td>0.000000</td>\n      <td>0.000000</td>\n      <td>0.000000</td>\n      <td>0.000000</td>\n      <td>0.000000</td>\n      <td>0.000000</td>\n      <td>0.000000</td>\n      <td>...</td>\n      <td>0.096695</td>\n      <td>0.093550</td>\n      <td>0.096132</td>\n      <td>0.096602</td>\n      <td>0.097394</td>\n      <td>0.091030</td>\n      <td>0.093196</td>\n      <td>0.096032</td>\n      <td>0.093344</td>\n      <td>0.092641</td>\n    </tr>\n    <tr>\n      <th>max</th>\n      <td>155066.000000</td>\n      <td>0.453124</td>\n      <td>0.883043</td>\n      <td>0.830750</td>\n      <td>0.945976</td>\n      <td>0.880416</td>\n      <td>0.921974</td>\n      <td>0.878083</td>\n      <td>0.816491</td>\n      <td>0.867787</td>\n      <td>...</td>\n      <td>1.116171</td>\n      <td>1.168718</td>\n      <td>1.176391</td>\n      <td>1.193110</td>\n      <td>1.170971</td>\n      <td>1.043377</td>\n      <td>1.207359</td>\n      <td>1.065200</td>\n      <td>1.131374</td>\n      <td>1.003713</td>\n    </tr>\n  </tbody>\n</table>\n<p>8 rows × 4181 columns</p>\n</div>"
     },
     "metadata": {},
     "execution_count": 5
    }
   ],
   "source": [
    "df.describe()"
   ]
  },
  {
   "cell_type": "code",
   "execution_count": 10,
   "metadata": {},
   "outputs": [],
   "source": [
    "import RandomShapeletClassifier"
   ]
  },
  {
   "cell_type": "code",
   "execution_count": null,
   "metadata": {},
   "outputs": [],
   "source": []
  }
 ]
}