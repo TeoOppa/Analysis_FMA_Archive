{
 "metadata": {
  "language_info": {
   "codemirror_mode": {
    "name": "ipython",
    "version": 3
   },
   "file_extension": ".py",
   "mimetype": "text/x-python",
   "name": "python",
   "nbconvert_exporter": "python",
   "pygments_lexer": "ipython3",
   "version": "3.8.3"
  },
  "orig_nbformat": 2,
  "kernelspec": {
   "name": "python383jvsc74a57bd0dca0ade3e726a953b501b15e8e990130d2b7799f14cfd9f4271676035ebe5511",
   "display_name": "Python 3.8.3 64-bit ('base': conda)"
  }
 },
 "nbformat": 4,
 "nbformat_minor": 2,
 "cells": [
  {
   "cell_type": "code",
   "execution_count": 1,
   "metadata": {},
   "outputs": [],
   "source": [
    "%matplotlib inline\n",
    "\n",
    "import numpy as np\n",
    "import pandas as pd\n",
    "import matplotlib.pyplot as plt\n",
    "\n",
    "from collections import defaultdict\n"
   ]
  },
  {
   "cell_type": "code",
   "execution_count": 2,
   "metadata": {},
   "outputs": [],
   "source": [
    "from sklearn.model_selection import train_test_split, cross_val_score \n",
    "\n",
    "from sklearn.metrics import accuracy_score, f1_score, classification_report\n",
    "from sklearn.metrics import roc_curve, auc, roc_auc_score"
   ]
  },
  {
   "cell_type": "code",
   "execution_count": 3,
   "metadata": {},
   "outputs": [],
   "source": [
    "df = pd.read_csv(\"/Users/matteoppa/Desktop/fma_metadata/df_to_work1.csv\")"
   ]
  },
  {
   "cell_type": "code",
   "execution_count": 4,
   "metadata": {},
   "outputs": [],
   "source": [
    "column2drop= [\"Unnamed: 0\"]"
   ]
  },
  {
   "cell_type": "code",
   "execution_count": 5,
   "metadata": {},
   "outputs": [],
   "source": [
    "df.drop(column2drop, inplace=True, axis=1)"
   ]
  },
  {
   "cell_type": "code",
   "execution_count": 6,
   "metadata": {},
   "outputs": [
    {
     "output_type": "stream",
     "name": "stderr",
     "text": [
      "<ipython-input-6-25649067ecc7>:4: SettingWithCopyWarning: \nA value is trying to be set on a copy of a slice from a DataFrame\n\nSee the caveats in the documentation: https://pandas.pydata.org/pandas-docs/stable/user_guide/indexing.html#returning-a-view-versus-a-copy\n  df['liked_bin'][i] = 0  #34\n<ipython-input-6-25649067ecc7>:6: SettingWithCopyWarning: \nA value is trying to be set on a copy of a slice from a DataFrame\n\nSee the caveats in the documentation: https://pandas.pydata.org/pandas-docs/stable/user_guide/indexing.html#returning-a-view-versus-a-copy\n  df['liked_bin'][i] = 1 #012\n"
     ]
    }
   ],
   "source": [
    "df['liked_bin'] = np.nan\n",
    "for i in range(0,len(df)):\n",
    "    if df['liked'][i] == 0 or df['liked'][i] == 1:\n",
    "        df['liked_bin'][i] = 0  #34 \n",
    "    else:\n",
    "        df['liked_bin'][i] = 1 #012"
   ]
  },
  {
   "cell_type": "code",
   "execution_count": 7,
   "metadata": {},
   "outputs": [],
   "source": [
    "column2drop1= [\"liked\"]\n",
    "df.drop(column2drop1, inplace=True, axis=1)"
   ]
  },
  {
   "cell_type": "code",
   "execution_count": 8,
   "metadata": {},
   "outputs": [],
   "source": [
    "class_name = 'liked_bin'"
   ]
  },
  {
   "cell_type": "code",
   "execution_count": 9,
   "metadata": {},
   "outputs": [],
   "source": [
    "attributes = [col for col in df.columns if col != class_name]\n",
    "X = df[attributes].values\n",
    "y = df[class_name]\n",
    "\n",
    "X_train, X_val, y_train, y_val = train_test_split(X, y, test_size=0.3,random_state=100, stratify=y)"
   ]
  },
  {
   "cell_type": "code",
   "execution_count": 10,
   "metadata": {},
   "outputs": [],
   "source": [
    "X_train, X_test, y_train, y_test = train_test_split(X, y, test_size=0.2)"
   ]
  },
  {
   "cell_type": "code",
   "execution_count": 11,
   "metadata": {},
   "outputs": [],
   "source": [
    "test= pd.read_csv(\"/Users/matteoppa/Desktop/fma_metadata/test_fma.csv\")"
   ]
  },
  {
   "source": [
    "# RIPPER"
   ],
   "cell_type": "markdown",
   "metadata": {}
  },
  {
   "cell_type": "code",
   "execution_count": 12,
   "metadata": {},
   "outputs": [],
   "source": [
    "import wittgenstein as lw"
   ]
  },
  {
   "cell_type": "code",
   "execution_count": 13,
   "metadata": {},
   "outputs": [],
   "source": [
    "ripper_clf = lw.RIPPER(max_rules=10)"
   ]
  },
  {
   "cell_type": "code",
   "execution_count": 16,
   "metadata": {},
   "outputs": [],
   "source": [
    "ripper_clf.fit(X_train, y_train, pos_class=1)"
   ]
  },
  {
   "cell_type": "code",
   "execution_count": 17,
   "metadata": {},
   "outputs": [
    {
     "output_type": "execute_result",
     "data": {
      "text/plain": [
       "<RIPPER(prune_size=0.33, random_state=None, max_total_conds=None, dl_allowance=64, k=2, max_rules=10, max_rule_conds=None, verbosity=0, n_discretize_bins=10)>"
      ]
     },
     "metadata": {},
     "execution_count": 17
    }
   ],
   "source": [
    "ripper_clf"
   ]
  },
  {
   "cell_type": "code",
   "execution_count": 21,
   "metadata": {},
   "outputs": [],
   "source": [
    "ripper_clf.fit(X_train, y_train, feature_names=attributes, pos_class=1)"
   ]
  },
  {
   "cell_type": "code",
   "execution_count": 18,
   "metadata": {},
   "outputs": [
    {
     "output_type": "execute_result",
     "data": {
      "text/plain": [
       "0.9478705926955643"
      ]
     },
     "metadata": {},
     "execution_count": 18
    }
   ],
   "source": [
    "ripper_clf.score(X_test, y_test)"
   ]
  },
  {
   "cell_type": "code",
   "execution_count": 22,
   "metadata": {},
   "outputs": [
    {
     "output_type": "execute_result",
     "data": {
      "text/plain": [
       "<Ruleset [listens_1=0.02-0.33^favorites_1=0.06-1.0^favorites_2=0.39-1.0] V [listens_1=0.02-0.33^favorites_1=0.06-1.0^favorites_2=0.04-0.39] V [listens_1=0.02-0.33^favorites_1=0.06-1.0^tracks=0.02-0.02^season=winter=1.0] V [listens_1=0.02-0.33^favorites_1=0.06-1.0^favorites_2=0.02-0.04^tracks=0.02-0.02]>"
      ]
     },
     "metadata": {},
     "execution_count": 22
    }
   ],
   "source": [
    "ripper_clf.ruleset_"
   ]
  },
  {
   "cell_type": "code",
   "execution_count": 23,
   "metadata": {},
   "outputs": [
    {
     "output_type": "stream",
     "name": "stdout",
     "text": [
      "[listens_1=0.02-0.33^favorites_1=0.06-1.0^favorites_2=0.39-1.0]\n[listens_1=0.02-0.33^favorites_1=0.06-1.0^favorites_2=0.04-0.39]\n[listens_1=0.02-0.33^favorites_1=0.06-1.0^tracks=0.02-0.02^season=winter=1.0]\n[listens_1=0.02-0.33^favorites_1=0.06-1.0^favorites_2=0.02-0.04^tracks=0.02-0.02]\n"
     ]
    }
   ],
   "source": [
    "for r in ripper_clf.ruleset_:\n",
    "    print(r)"
   ]
  },
  {
   "cell_type": "code",
   "execution_count": 24,
   "metadata": {},
   "outputs": [],
   "source": [
    "IREP_clf=lw.IREP(max_rules=10)"
   ]
  },
  {
   "cell_type": "code",
   "execution_count": 25,
   "metadata": {},
   "outputs": [],
   "source": [
    "IREP_clf.fit(X_train, y_train, pos_class=1)"
   ]
  },
  {
   "cell_type": "code",
   "execution_count": 29,
   "metadata": {},
   "outputs": [],
   "source": [
    "IREP_clf.fit(X_train, y_train, pos_class=1, feature_names=attributes)"
   ]
  },
  {
   "cell_type": "code",
   "execution_count": 26,
   "metadata": {},
   "outputs": [
    {
     "output_type": "execute_result",
     "data": {
      "text/plain": [
       "0.9488184001010994"
      ]
     },
     "metadata": {},
     "execution_count": 26
    }
   ],
   "source": [
    "IREP_clf.score(X_test, y_test)"
   ]
  },
  {
   "cell_type": "code",
   "execution_count": 30,
   "metadata": {},
   "outputs": [
    {
     "output_type": "execute_result",
     "data": {
      "text/plain": [
       "<Ruleset [listens_1=0.02-0.33^favorites_1=0.06-1.0^favorites_2=0.39-1.0] V [listens_1=0.02-0.33^favorites_1=0.06-1.0^favorites_2=0.04-0.39] V [listens_1=0.02-0.33^favorites_1=0.06-1.0^tracks=0.02-0.02] V [listens_1=0.02-0.33^tracks=0.01-0.01^favorites_1=0.06-1.0^bit_rate=0.57-0.71] V [listens_1=0.02-0.33^favorites_1=0.03-0.06^number=0.0-0.0^favorites_2=0.04-0.39^genre_top=0.0-4.0] V [listens_1=0.02-0.33^favorites_1=0.03-0.06^tracks=0.01-0.01]>"
      ]
     },
     "metadata": {},
     "execution_count": 30
    }
   ],
   "source": [
    "IREP_clf.ruleset_"
   ]
  },
  {
   "cell_type": "code",
   "execution_count": 31,
   "metadata": {},
   "outputs": [
    {
     "output_type": "stream",
     "name": "stdout",
     "text": [
      "[listens_1=0.02-0.33^favorites_1=0.06-1.0^favorites_2=0.39-1.0]\n[listens_1=0.02-0.33^favorites_1=0.06-1.0^favorites_2=0.04-0.39]\n[listens_1=0.02-0.33^favorites_1=0.06-1.0^tracks=0.02-0.02]\n[listens_1=0.02-0.33^tracks=0.01-0.01^favorites_1=0.06-1.0^bit_rate=0.57-0.71]\n[listens_1=0.02-0.33^favorites_1=0.03-0.06^number=0.0-0.0^favorites_2=0.04-0.39^genre_top=0.0-4.0]\n[listens_1=0.02-0.33^favorites_1=0.03-0.06^tracks=0.01-0.01]\n"
     ]
    }
   ],
   "source": [
    "for r in IREP_clf.ruleset_:\n",
    "    print(r)"
   ]
  },
  {
   "source": [
    "# ORANGE"
   ],
   "cell_type": "markdown",
   "metadata": {}
  },
  {
   "cell_type": "code",
   "execution_count": 9,
   "metadata": {},
   "outputs": [],
   "source": [
    "import Orange"
   ]
  },
  {
   "cell_type": "code",
   "execution_count": 10,
   "metadata": {},
   "outputs": [],
   "source": [
    "ds = Orange.data.Table(\"/Users/matteoppa/Desktop/fma_metadata/df_to_work1.csv\")"
   ]
  },
  {
   "cell_type": "code",
   "execution_count": 11,
   "metadata": {},
   "outputs": [
    {
     "output_type": "execute_result",
     "data": {
      "text/plain": [
       "[[0, 0, 0.016129, 0.00103734, 0.00339679, ...],\n",
       " [1, 0, 0.0483871, 0.00726141, 0.00565141, ...],\n",
       " [2, 0, 0.016129, 0.00103734, 0.00124851, ...],\n",
       " [3, 0, 0.016129, 0.00103734, 0.000294873, ...],\n",
       " [4, 0, 0.0322581, 0.0259336, 0.00268949, ...],\n",
       " ...\n",
       "]"
      ]
     },
     "metadata": {},
     "execution_count": 11
    }
   ],
   "source": [
    "ds"
   ]
  },
  {
   "cell_type": "code",
   "execution_count": 12,
   "metadata": {},
   "outputs": [
    {
     "output_type": "error",
     "ename": "ValueError",
     "evalue": "Categorical class variable expected.",
     "traceback": [
      "\u001b[0;31m---------------------------------------------------------------------------\u001b[0m",
      "\u001b[0;31mValueError\u001b[0m                                Traceback (most recent call last)",
      "\u001b[0;32m<ipython-input-12-1fcfaeebb338>\u001b[0m in \u001b[0;36m<module>\u001b[0;34m\u001b[0m\n\u001b[1;32m      1\u001b[0m \u001b[0mcn2_learner\u001b[0m \u001b[0;34m=\u001b[0m \u001b[0mOrange\u001b[0m\u001b[0;34m.\u001b[0m\u001b[0mclassification\u001b[0m\u001b[0;34m.\u001b[0m\u001b[0mrules\u001b[0m\u001b[0;34m.\u001b[0m\u001b[0mCN2Learner\u001b[0m\u001b[0;34m(\u001b[0m\u001b[0;34m)\u001b[0m\u001b[0;34m\u001b[0m\u001b[0;34m\u001b[0m\u001b[0m\n\u001b[0;32m----> 2\u001b[0;31m \u001b[0mcn2_classifier\u001b[0m \u001b[0;34m=\u001b[0m \u001b[0mcn2_learner\u001b[0m\u001b[0;34m(\u001b[0m\u001b[0mds\u001b[0m\u001b[0;34m)\u001b[0m\u001b[0;34m\u001b[0m\u001b[0;34m\u001b[0m\u001b[0m\n\u001b[0m",
      "\u001b[0;32m/opt/anaconda3/lib/python3.8/site-packages/Orange/base.py\u001b[0m in \u001b[0;36m__call__\u001b[0;34m(self, data, progress_callback)\u001b[0m\n\u001b[1;32m    108\u001b[0m     \u001b[0;32mdef\u001b[0m \u001b[0m__call__\u001b[0m\u001b[0;34m(\u001b[0m\u001b[0mself\u001b[0m\u001b[0;34m,\u001b[0m \u001b[0mdata\u001b[0m\u001b[0;34m,\u001b[0m \u001b[0mprogress_callback\u001b[0m\u001b[0;34m=\u001b[0m\u001b[0;32mNone\u001b[0m\u001b[0;34m)\u001b[0m\u001b[0;34m:\u001b[0m\u001b[0;34m\u001b[0m\u001b[0;34m\u001b[0m\u001b[0m\n\u001b[1;32m    109\u001b[0m         \u001b[0;32mif\u001b[0m \u001b[0;32mnot\u001b[0m \u001b[0mself\u001b[0m\u001b[0;34m.\u001b[0m\u001b[0mcheck_learner_adequacy\u001b[0m\u001b[0;34m(\u001b[0m\u001b[0mdata\u001b[0m\u001b[0;34m.\u001b[0m\u001b[0mdomain\u001b[0m\u001b[0;34m)\u001b[0m\u001b[0;34m:\u001b[0m\u001b[0;34m\u001b[0m\u001b[0;34m\u001b[0m\u001b[0m\n\u001b[0;32m--> 110\u001b[0;31m             \u001b[0;32mraise\u001b[0m \u001b[0mValueError\u001b[0m\u001b[0;34m(\u001b[0m\u001b[0mself\u001b[0m\u001b[0;34m.\u001b[0m\u001b[0mlearner_adequacy_err_msg\u001b[0m\u001b[0;34m)\u001b[0m\u001b[0;34m\u001b[0m\u001b[0;34m\u001b[0m\u001b[0m\n\u001b[0m\u001b[1;32m    111\u001b[0m \u001b[0;34m\u001b[0m\u001b[0m\n\u001b[1;32m    112\u001b[0m         \u001b[0morigdomain\u001b[0m \u001b[0;34m=\u001b[0m \u001b[0mdata\u001b[0m\u001b[0;34m.\u001b[0m\u001b[0mdomain\u001b[0m\u001b[0;34m\u001b[0m\u001b[0;34m\u001b[0m\u001b[0m\n",
      "\u001b[0;31mValueError\u001b[0m: Categorical class variable expected."
     ]
    }
   ],
   "source": [
    "cn2_learner = Orange.classification.rules.CN2Learner()\n",
    "cn2_classifier = cn2_learner(ds)"
   ]
  },
  {
   "cell_type": "code",
   "execution_count": null,
   "metadata": {},
   "outputs": [],
   "source": []
  }
 ]
}